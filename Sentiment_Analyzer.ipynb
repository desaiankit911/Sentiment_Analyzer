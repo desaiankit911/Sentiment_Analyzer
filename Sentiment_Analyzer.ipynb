{
  "nbformat": 4,
  "nbformat_minor": 0,
  "metadata": {
    "colab": {
      "name": "Untitled1.ipynb",
      "provenance": [],
      "authorship_tag": "ABX9TyNbC46whaXFPXYidVF5xa2d",
      "include_colab_link": true
    },
    "kernelspec": {
      "name": "python3",
      "display_name": "Python 3"
    }
  },
  "cells": [
    {
      "cell_type": "markdown",
      "metadata": {
        "id": "view-in-github",
        "colab_type": "text"
      },
      "source": [
        "<a href=\"https://colab.research.google.com/github/desaiankit911/Sentiment_Analyzer/blob/master/Sentiment_Analyzer.ipynb\" target=\"_parent\"><img src=\"https://colab.research.google.com/assets/colab-badge.svg\" alt=\"Open In Colab\"/></a>"
      ]
    },
    {
      "cell_type": "code",
      "metadata": {
        "id": "4p5FyMPqcES2",
        "colab_type": "code",
        "colab": {}
      },
      "source": [
        "from sklearn.feature_extraction.text import CountVectorizer\n",
        "from sklearn.naive_bayes import BernoulliNB\n",
        "from sklearn.metrics import confusion_matrix\n",
        "\n",
        "import numpy as np\n",
        "import itertools\n",
        "import matplotlib.pyplot as plt\n",
        "import csv\n",
        "import os"
      ],
      "execution_count": 0,
      "outputs": []
    },
    {
      "cell_type": "markdown",
      "metadata": {
        "id": "HDN6sbyn10iy",
        "colab_type": "text"
      },
      "source": [
        "If Uploading file for Traning is in CSV format use below funtion to convert 'csv'  into 'txt' format"
      ]
    },
    {
      "cell_type": "code",
      "metadata": {
        "id": "SjZnvOCkv_N8",
        "colab_type": "code",
        "colab": {}
      },
      "source": [
        "def upload_CSV(traning_file):\n",
        "  file_name = traning_file.split('.')\n",
        "  if file_name[1] == 'csv':\n",
        "    lables = True\n",
        "    with open('data5.txt', \"w\") as my_output_file:\n",
        "        with open(traning_file, \"r\") as my_input_file:\n",
        "            try:\n",
        "                for row in csv.reader(my_input_file):\n",
        "                    if lables != True:\n",
        "                        my_output_file.write(\"    \".join(row)+'\\n')\n",
        "                    else:\n",
        "                        lables = False\n",
        "            except Exception:\n",
        "                pass\n",
        "        my_output_file.close()\n",
        "    print('your Training file is loaded successfully')\n",
        "  else:\n",
        "    print(\"file should be 'CSV' formated\")"
      ],
      "execution_count": 0,
      "outputs": []
    },
    {
      "cell_type": "markdown",
      "metadata": {
        "id": "_UzNFHx121FF",
        "colab_type": "text"
      },
      "source": [
        "Data Collection"
      ]
    },
    {
      "cell_type": "code",
      "metadata": {
        "id": "RpD0wyqCcNTv",
        "colab_type": "code",
        "colab": {}
      },
      "source": [
        "def get_all_data():\n",
        "\n",
        "    with open(\"data1.txt\", \"r\") as text_file:\n",
        "        data = text_file.read().split('\\n')\n",
        "         \n",
        "    with open(\"data2.txt\", \"r\") as text_file:\n",
        "        data += text_file.read().split('\\n')\n",
        "\n",
        "    with open(\"data3.txt\", \"r\") as text_file:\n",
        "        data += text_file.read().split('\\n')\n",
        "\n",
        "    with open(\"data4.txt\", \"r\") as text_file:\n",
        "        data += text_file.read().split('\\n')\n",
        "\n",
        "    with open(\"data5.txt\", \"r\") as text_file:\n",
        "        data += text_file.read().split('\\n')\n",
        "\n",
        "    with open(\"reviews_test.txt\", \"r\") as text_file:\n",
        "        data += text_file.read().split('\\n')\n",
        "\n",
        "    return data"
      ],
      "execution_count": 0,
      "outputs": []
    },
    {
      "cell_type": "code",
      "metadata": {
        "id": "LvXQBvjzclRD",
        "colab_type": "code",
        "outputId": "64c03520-ef3b-4b65-a42f-5ef902ccecb6",
        "colab": {
          "base_uri": "https://localhost:8080/",
          "height": 237
        }
      },
      "source": [
        "all_data = get_all_data()\n",
        "print(type(all_data))\n",
        "for i in range(10):\n",
        "  print(all_data[-i])"
      ],
      "execution_count": 43,
      "outputs": [
        {
          "output_type": "stream",
          "text": [
            "<class 'list'>\n",
            "So there is no way for me to plug it in here in the US unless I go by a converter.\t0\n",
            "This is my first MP3 player, I got it for Christmas.  This thing is so cool!  I put stock away after the store where I work closes a couple nights a week so it's great to just stick it in my pocket and put it on shuffle and I don't have to touch it the rest of the night!  Comes with a coupon for 5 free downloads at connect music store, at least mine did. (Remember to register your device with the store or else you can't put the songs you've downloaded onto your player!).  I'm online everynight so while I'm chatting with friends I'm always going through my CD's putting songs on it!  Songs don't skip, the battery lasts really long and then if it's plugged into the computer while you're loading songs onto it, it's charging anyways!  I love it!!  the only one thing I don't like, and it's just cuz I'm weird like this, is that I can't seem to find a way to alphabetize the songs on the player itself...I just do it myself when I'm putting songs on it...although there is probably a way to do it I just can't figure it out!  :P  \t1\n",
            "[...] I ordered this as a Christmas present for my (then) 13 year old son who longed for \"the competition\" version of MP3.   The Rio Carbon 5GB was too much memory for the $$ to pass up. Although it's quite a bit larger in size, it's design is sleek, very \"industrial\" and my son LOVED it.  Still uses it DAILY and it's been 2 Christmases ago!  Felt secure in the reviews, felt secure w/ the guarantee and the company rating.  Mom scored big-time. :)  \t1\n",
            "Just got ?is device over ?e internet. Ich now realize why ?is device w?s so cheap. ?e device would not upgrade to ?e latest firmware advertised, would not play any of ?e OGG Vorbis files ??t Ich h?d, despite it advertising ?e ability, ?nd w?s only available wi?e Media Transfer Protocol, instead of ?e easier ?nd more universal USB Mass Storage protocol. ?is means using Windows Media Player 10 or greater to control ?e player, which limits its ability to be used wiLinux or a Mac. Tried calling support ?nd could not get a live person despite spending half a day on ?e phone. ?e iriver NorAmerica website's Need Help button w?s ?lso not working, sending me to a 404 not found page. Makes me wonder if ?ey are still in business! ** Update ** ?fter spending hours on ?e internet looking at solutions, Ich managed to update ?e firmware by finding a Windows machine (ugh!) ?nd running ?e firmware updater. Instead of selecting America, which gave me a corrupted firmware, Ich selected Europe. ??at allowed me to update to ?e latest MTP firmware. ?fter ??t, Ich w?s able to ?en use ?e same firmware updater program to convert to USB Mass Storage (UMS) by selecting a new button in ?e program ?nd installing ?e new firmware. ?is allowed me to ?en use ?e device in Linux, ?nd, ?s a bonus, ?e OGG Vorbis media files now worked. ?erefore Ich am updating my rating to 3 STARS from one star.  \t0\n",
            "According to many reviews, the Nomad II MG blows away all other portable MP3 players.  Sure, I'll buy that.  But compared to MP3 playback on my home computer, it sounds terrible.  It has a low frequency rumble that drowns out any quiet moments, even in high bitrate, LAME-encoded MP3s.  A friend of mine with the same model has confirmed this.  Furthermore, the sound reproduction seems to be a bit &quot;thinner&quot; than what I get with my home computer, even when using aftermarket, digital reference headphones.  (The headphones they provide are TERRIBLE.)  The interface on the Nomad is probably the clunkiest and most counterintuitive I've ever seen.  It's hard to pick the unit up without pressing a button (they're on the sides).  I've already accidentally deleted a song, and so has my girlfriend.  The included software is extremely unstable (under Win98).  I've had it crash many times just browsing available MP3s, and others have complained of this as well.  The software should simply be a conduit to the device, but the Creative people have tried to make it do too much, and they've made it very user unfriendly and filled it with bugs in the process.<p>I suppose the Nomad is decent for use during exercise or on the train, but if you consider yourself a semi-audiophile I recommend you do not buy this product.  Wait until the technology matures.  Most studies find that near CD-quality is about 256kbps.  The Nomad will only hold 30 minutes of music at this rate, and will reproduce it with distortion, all in a confusing little package.  I don't think that's worth [the price]; do you?  \t0\n",
            "I've had my Rio for about 4 months.  The other day I went to download some songs to it, and now it says that it only has 16mb of memory.  I don't know what happened to it.<p>Also, the 32mb of memory is not enough if you're like me and use the player all day.  If I bought another mp3 player to replace this broken one, it would have to have at least 64 mb of memory.  I could fit a maximum of 8 songs on the Rio.  \t0\n",
            "I thought I was getting a deal when I purchased the iRiver H10 but I was terribly WRONG!!!  I bought my wife and ipod for her birthday (which is awesome) after I bought the iRiver. I will be getting an ipod very soon.  Problems - The battery life is only about 2 days.  Which would not be a problem if the battery indicator actually indicated when the battery is getting low...nope, the display shows full bars and then with no warning it just shuts off and displays a battery dead sign.  - Downloading music is a hassle.  On several occasions I have had to wait while the music is uploaded and re-uploaded before I can add more music.  - Sometimes (actually a lot of times) it just doesn't work.  I will turn it on and it will just freeze up.  At this point you have to take the battery out and wait for it to initialize and hope that it works right.  - The charging system as a whole is sloppy and akward.  There is a 3 headed beast that should have been made into a simple input/output.  - There are several more issue about not being user friendly and other ways it will freeze up on you, while your in the middle of your workout but you get the point.  Get an ipod and be happy with life    \t0\n",
            "i saw it, read about it, thought it was everything i needed. Boy, was I wrong! This thing is...crap! When a song is playing, sometimes I want to switch to a new one. It's frozen up on me 3 times!! Then, I have to wait for the battery to run out, and then recharge. It takes forever! And every single time i recharge it, it runs out of power even faster than before.  The settings are so messed up! For some reason, all the songs kept switching around. I am the only one who messes with it. Turns out for some reason, it was put on shuffle mode! And the radio is so hard to figure out, you have to use the manual to get it! And the radio quality is horrible. The sound quality overall is bad too.   I bought this as a congratulations for finishing middle school with money my parents gave me. Now I am paying the consequences. I am earning to buy a new iPod nano.  DO NOT BUY THIS. I AM WARNING YOU!!! DO NOT DO NOT DO NOT BUY THIS MP3 PLAYER, IF YOU EVEN CALL IT THAT!  I call it...a waste of my good money and crap.  \t0\n",
            "Sorry, the menu button on the player jammed after only 4-5 days of very occasional use! The style and functionality of this player is awesome but the buttons on it are tacky and wear out way to fast! As much as I want to keep or exchange it, I'm returning it and sticking to my screenless 2nd gen shuffle. The buttons on that feel much better and I guess I don't really need a screen because those usually distract me from actually listening to a song instead of constantly picking one to listen to!  \t0\n",
            "Zip it seems that you critisize the previous guy of being a creative employee because he likes it. On that basis it would seem that you are an Apple employee, next time do not open your mouth. As for me i think that this product is far better than the apple ipod mini although for it to take down the mini it must have a crack team of marketers to get the word out, other wise it will likely go unnoticed. For all those un biased about products you should find this a much better product than the ipod mini on many fronts.  NEW: It seems that amazon in an attempt to make a few more bucks has jacked the price up from the 250$ that it used to be to 280$. Dont buy here go to creatives web site and buy from them its cheaper and you wont get screwed by amazon. I still love this product and intend to buy it after a few reviews come out from respectable magazines like PCmag or someone like that but until then screw you amazon i hate you and you need to drop the price back down so this thing can compete with the ipod mini.   Even more NEW: Good job amazon you droped the price back down. Who's a good boy, thats right. goood boy.  \t1\n"
          ],
          "name": "stdout"
        }
      ]
    },
    {
      "cell_type": "markdown",
      "metadata": {
        "id": "aG0EM1VD4KS4",
        "colab_type": "text"
      },
      "source": [
        "Data Preprocessing"
      ]
    },
    {
      "cell_type": "code",
      "metadata": {
        "id": "b8mKlilCcuWe",
        "colab_type": "code",
        "colab": {}
      },
      "source": [
        "def preprocessing_data(data):\n",
        "    processing_data = []\n",
        "    for single_data in data:\n",
        "        if len(single_data.split(\"\\t\")) == 2 and single_data.split(\"\\t\")[1] != \"\":\n",
        "            processing_data.append(single_data.split(\"\\t\"))\n",
        "\n",
        "    return processing_data"
      ],
      "execution_count": 0,
      "outputs": []
    },
    {
      "cell_type": "code",
      "metadata": {
        "id": "GvK1GdVpc8t1",
        "colab_type": "code",
        "outputId": "14fe3d66-3f6d-4c31-a813-4725b0260c0d",
        "colab": {
          "base_uri": "https://localhost:8080/",
          "height": 219
        }
      },
      "source": [
        "data = preprocessing_data(all_data)\n",
        "for i in range(10):\n",
        "  print(data[i])"
      ],
      "execution_count": 45,
      "outputs": [
        {
          "output_type": "stream",
          "text": [
            "['So there is no way for me to plug it in here in the US unless I go by a converter.', '0']\n",
            "['Good case, Excellent value.', '1']\n",
            "['Great for the jawbone.', '1']\n",
            "['Tied to charger for conversations lasting more than 45 minutes.MAJOR PROBLEMS!!', '0']\n",
            "['The mic is great.', '1']\n",
            "['I have to jiggle the plug to get it to line up right to get decent volume.', '0']\n",
            "['If you have several dozen or several hundred contacts, then imagine the fun of sending each of them one by one.', '0']\n",
            "['If you are Razr owner...you must have this!', '1']\n",
            "['Needless to say, I wasted my money.', '0']\n",
            "['What a waste of money and time!.', '0']\n"
          ],
          "name": "stdout"
        }
      ]
    },
    {
      "cell_type": "markdown",
      "metadata": {
        "id": "W6V4nKg44Uia",
        "colab_type": "text"
      },
      "source": [
        "Split Data into Train & Evaluation Dataset\n",
        "\n",
        "\n"
      ]
    },
    {
      "cell_type": "code",
      "metadata": {
        "id": "c7IRpV6wdxqz",
        "colab_type": "code",
        "colab": {}
      },
      "source": [
        "def split_data(data):\n",
        "    total = len(data)\n",
        "    training_ratio = 0.75\n",
        "    training_data = []\n",
        "    evaluation_data = []\n",
        "\n",
        "    for indice in range(0, total):\n",
        "        if indice < total * training_ratio:\n",
        "            training_data.append(data[indice])\n",
        "        else:\n",
        "            evaluation_data.append(data[indice])\n",
        "\n",
        "    return training_data, evaluation_data"
      ],
      "execution_count": 0,
      "outputs": []
    },
    {
      "cell_type": "code",
      "metadata": {
        "id": "L652ZTspeS5N",
        "colab_type": "code",
        "colab": {}
      },
      "source": [
        "def preprocessing_step():\n",
        "    data = get_all_data()\n",
        "    processing_data = preprocessing_data(data)\n",
        "\n",
        "    return split_data(processing_data)"
      ],
      "execution_count": 0,
      "outputs": []
    },
    {
      "cell_type": "markdown",
      "metadata": {
        "id": "MkuCfJCW4kok",
        "colab_type": "text"
      },
      "source": [
        "**Training**"
      ]
    },
    {
      "cell_type": "code",
      "metadata": {
        "id": "bN-ONo_rea48",
        "colab_type": "code",
        "colab": {}
      },
      "source": [
        "def training_step(data, vectorizer):\n",
        "    training_text = [data[0] for data in data]\n",
        "    training_result = [data[1] for data in data]\n",
        "\n",
        "    training_text = vectorizer.fit_transform(training_text)\n",
        "\n",
        "    return BernoulliNB().fit(training_text, training_result)"
      ],
      "execution_count": 0,
      "outputs": []
    },
    {
      "cell_type": "code",
      "metadata": {
        "id": "1djMYUKje3JC",
        "colab_type": "code",
        "colab": {}
      },
      "source": [
        "training_data, evaluation_data = preprocessing_step()\n",
        "vectorizer = CountVectorizer(binary = 'true')\n",
        "classifier = training_step(training_data, vectorizer)\n",
        "result = classifier.predict(vectorizer.transform([\"I love this movie!\"]))"
      ],
      "execution_count": 0,
      "outputs": []
    },
    {
      "cell_type": "code",
      "metadata": {
        "id": "W-dj4_rFfTDo",
        "colab_type": "code",
        "outputId": "5a1e94f7-49a9-47d9-a0cd-08a954730749",
        "colab": {
          "base_uri": "https://localhost:8080/",
          "height": 35
        }
      },
      "source": [
        "result[0]"
      ],
      "execution_count": 50,
      "outputs": [
        {
          "output_type": "execute_result",
          "data": {
            "text/plain": [
              "'1'"
            ]
          },
          "metadata": {
            "tags": []
          },
          "execution_count": 50
        }
      ]
    },
    {
      "cell_type": "code",
      "metadata": {
        "id": "mh5CDq0afVCX",
        "colab_type": "code",
        "colab": {}
      },
      "source": [
        "def analyse_text(classifier, vectorizer, text):\n",
        "    return text, classifier.predict(vectorizer.transform([text]))\n",
        "  \n",
        "def print_result(result):\n",
        "    text, analysis_result = result\n",
        "    print_text = \"Positive\" if analysis_result[0] == '1' else \"Negative\"\n",
        "    result = text + \": \" + print_text \n",
        "    return result"
      ],
      "execution_count": 0,
      "outputs": []
    },
    {
      "cell_type": "markdown",
      "metadata": {
        "id": "JycSfmqq44jW",
        "colab_type": "text"
      },
      "source": [
        "Model output"
      ]
    },
    {
      "cell_type": "code",
      "metadata": {
        "id": "D_OrLCfbfmP_",
        "colab_type": "code",
        "outputId": "57b6c8a4-8fa6-44ab-a1bd-ef6e08f5f53b",
        "colab": {
          "base_uri": "https://localhost:8080/",
          "height": 35
        }
      },
      "source": [
        "print_result(analyse_text(classifier, vectorizer, 'I am hero'))"
      ],
      "execution_count": 52,
      "outputs": [
        {
          "output_type": "execute_result",
          "data": {
            "text/plain": [
              "'I am hero: Positive'"
            ]
          },
          "metadata": {
            "tags": []
          },
          "execution_count": 52
        }
      ]
    },
    {
      "cell_type": "code",
      "metadata": {
        "id": "MNmbSM91a5XQ",
        "colab_type": "code",
        "colab": {
          "base_uri": "https://localhost:8080/",
          "height": 35
        },
        "outputId": "23ebe57b-5786-4f02-ffbb-c3f78f3cb345"
      },
      "source": [
        "print_result(analyse_text(classifier, vectorizer, 'I am Zero'))"
      ],
      "execution_count": 53,
      "outputs": [
        {
          "output_type": "execute_result",
          "data": {
            "text/plain": [
              "'I am Zero: Negative'"
            ]
          },
          "metadata": {
            "tags": []
          },
          "execution_count": 53
        }
      ]
    },
    {
      "cell_type": "code",
      "metadata": {
        "id": "qacY9LbJa3Yq",
        "colab_type": "code",
        "colab": {
          "base_uri": "https://localhost:8080/",
          "height": 35
        },
        "outputId": "74db64d2-d893-450e-fa79-d20ac48e1461"
      },
      "source": [
        "print_result(analyse_text(classifier, vectorizer, 'It is good'))"
      ],
      "execution_count": 54,
      "outputs": [
        {
          "output_type": "execute_result",
          "data": {
            "text/plain": [
              "'It is good: Positive'"
            ]
          },
          "metadata": {
            "tags": []
          },
          "execution_count": 54
        }
      ]
    },
    {
      "cell_type": "code",
      "metadata": {
        "id": "Qn3gTjlSa-KO",
        "colab_type": "code",
        "colab": {
          "base_uri": "https://localhost:8080/",
          "height": 35
        },
        "outputId": "913e5f69-fca9-4613-9b32-e2a4c2390753"
      },
      "source": [
        "print_result(analyse_text(classifier, vectorizer, 'It is BAD'))"
      ],
      "execution_count": 55,
      "outputs": [
        {
          "output_type": "execute_result",
          "data": {
            "text/plain": [
              "'It is BAD: Negative'"
            ]
          },
          "metadata": {
            "tags": []
          },
          "execution_count": 55
        }
      ]
    },
    {
      "cell_type": "markdown",
      "metadata": {
        "id": "ifmbvLFu5Dyv",
        "colab_type": "text"
      },
      "source": [
        "**Calculating Evaluation Dataset Accuracy**"
      ]
    },
    {
      "cell_type": "code",
      "metadata": {
        "id": "10e4eQbxgUfI",
        "colab_type": "code",
        "colab": {}
      },
      "source": [
        "def simple_evaluation(evaluation_data):\n",
        "    evaluation_text     = [evaluation_data[0] for evaluation_data in evaluation_data]\n",
        "    evaluation_result   = [evaluation_data[1] for evaluation_data in evaluation_data]\n",
        "\n",
        "    total = len(evaluation_text)\n",
        "    corrects = 0\n",
        "    for index in range(0, total):\n",
        "        analysis_result = analyse_text(classifier, vectorizer, evaluation_text[index])\n",
        "        text, result = analysis_result\n",
        "        corrects += 1 if result[0] == evaluation_result[index] else 0\n",
        "\n",
        "    return corrects * 100 / total"
      ],
      "execution_count": 0,
      "outputs": []
    },
    {
      "cell_type": "code",
      "metadata": {
        "id": "AP8PUP9whHuK",
        "colab_type": "code",
        "outputId": "e2fd500c-c569-45f7-8bc7-17a2f72b84f7",
        "colab": {
          "base_uri": "https://localhost:8080/",
          "height": 35
        }
      },
      "source": [
        "simple_evaluation(evaluation_data)"
      ],
      "execution_count": 57,
      "outputs": [
        {
          "output_type": "execute_result",
          "data": {
            "text/plain": [
              "77.0909090909091"
            ]
          },
          "metadata": {
            "tags": []
          },
          "execution_count": 57
        }
      ]
    },
    {
      "cell_type": "markdown",
      "metadata": {
        "id": "zghCr70m5oYU",
        "colab_type": "text"
      },
      "source": [
        "**Reading Test file**\n",
        "\n",
        "> test file without labels\n",
        "\n"
      ]
    },
    {
      "cell_type": "code",
      "metadata": {
        "id": "bgbdSPkmB9xT",
        "colab_type": "code",
        "outputId": "8bdf978a-f996-42a2-a297-34e7bcadd003",
        "colab": {
          "base_uri": "https://localhost:8080/",
          "height": 310
        }
      },
      "source": [
        "with open('test.txt','rb') as file: \n",
        "      lines =file.read().splitlines()\n",
        "\n",
        "for line in lines[:15]:\n",
        "  print(line)"
      ],
      "execution_count": 59,
      "outputs": [
        {
          "output_type": "stream",
          "text": [
            "b\"One of the other reviewers has mentioned that after watching just 1 Oz episode you'll be hooked. They are right, as this is exactly what happened with me.<br /><br />The first thing that struck me about Oz was its brutality and unflinching scenes of violence, which set in right from the word GO. Trust me, this is not a show for the faint hearted or timid. This show pulls no punches with regards to drugs, sex or violence. Its is hardcore, in the classic use of the word.<br /><br />It is called OZ as that is the nickname given to the Oswald Maximum Security State Penitentary. It focuses mainly on Emerald City, an experimental section of the prison where all the cells have glass fronts and face inwards, so privacy is not high on the agenda. Em City is home to many..Aryans, Muslims, gangstas, Latinos, Christians, Italians, Irish and more....so scuffles, death stares, dodgy dealings and shady agreements are never far away.<br /><br />I would say the main appeal of the show is due to the fact that it goes where other shows wouldn't dare. Forget pretty pictures painted for mainstream audiences, forget charm, forget romance...OZ doesn't mess around. The first episode I ever saw struck me as so nasty it was surreal, I couldn't say I was ready for it, but as I watched more, I developed a taste for Oz, and got accustomed to the high levels of graphic violence. Not just violence, but injustice (crooked guards who'll be sold out for a nickel, inmates who'll kill on order and get away with it, well mannered, middle class inmates being turned into prison bitches due to their lack of street skills or prison experience) Watching Oz, you may become comfortable with what is uncomfortable viewing....thats if you can get in touch with your darker side.\"\n",
            "b'A wonderful little production. <br /><br />The filming technique is very unassuming- very old-time-BBC fashion and gives a comforting, and sometimes discomforting, sense of realism to the entire piece. <br /><br />The actors are extremely well chosen- Michael Sheen not only \"has got all the polari\" but he has all the voices down pat too! You can truly see the seamless editing guided by the references to Williams\\' diary entries, not only is it well worth the watching but it is a terrificly written and performed piece. A masterful production about one of the great master\\'s of comedy and his life. <br /><br />The realism really comes home with the little things: the fantasy of the guard which, rather than use the traditional \\'dream\\' techniques remains solid then disappears. It plays on our knowledge and our senses, particularly with the scenes concerning Orton and Halliwell and the sets (particularly of their flat with Halliwell\\'s murals decorating every surface) are terribly well done.'\n",
            "b'I thought this was a wonderful way to spend time on a too hot summer weekend, sitting in the air conditioned theater and watching a light-hearted comedy. The plot is simplistic, but the dialogue is witty and the characters are likable (even the well bread suspected serial killer). While some may be disappointed when they realize this is not Match Point 2: Risk Addiction, I thought it was proof that Woody Allen is still fully in control of the style many of us have grown to love.<br /><br />This was the most I\\'d laughed at one of Woody\\'s comedies in years (dare I say a decade?). While I\\'ve never been impressed with Scarlet Johanson, in this she managed to tone down her \"sexy\" image and jumped right into a average, but spirited young woman.<br /><br />This may not be the crown jewel of his career, but it was wittier than \"Devil Wears Prada\" and more interesting than \"Superman\" a great comedy to go see with friends.'\n",
            "b\"Basically there's a family where a little boy (Jake) thinks there's a zombie in his closet & his parents are fighting all the time.<br /><br />This movie is slower than a soap opera... and suddenly, Jake decides to become Rambo and kill the zombie.<br /><br />OK, first of all when you're going to make a film you must Decide if its a thriller or a drama! As a drama the movie is watchable. Parents are divorcing & arguing like in real life. And then we have Jake with his closet which totally ruins all the film! I expected to see a BOOGEYMAN similar movie, and instead i watched a drama with some meaningless thriller spots.<br /><br />3 out of 10 just for the well playing parents & descent dialogs. As for the shots with Jake: just ignore them.\"\n",
            "b'Petter Mattei\\'s \"Love in the Time of Money\" is a visually stunning film to watch. Mr. Mattei offers us a vivid portrait about human relations. This is a movie that seems to be telling us what money, power and success do to people in the different situations we encounter. <br /><br />This being a variation on the Arthur Schnitzler\\'s play about the same theme, the director transfers the action to the present time New York where all these different characters meet and connect. Each one is connected in one way, or another to the next person, but no one seems to know the previous point of contact. Stylishly, the film has a sophisticated luxurious look. We are taken to see how these people live and the world they live in their own habitat.<br /><br />The only thing one gets out of all these souls in the picture is the different stages of loneliness each one inhabits. A big city is not exactly the best place in which human relations find sincere fulfillment, as one discerns is the case with most of the people we encounter.<br /><br />The acting is good under Mr. Mattei\\'s direction. Steve Buscemi, Rosario Dawson, Carol Kane, Michael Imperioli, Adrian Grenier, and the rest of the talented cast, make these characters come alive.<br /><br />We wish Mr. Mattei good luck and await anxiously for his next work.'\n",
            "b'Probably my all-time favorite movie, a story of selflessness, sacrifice and dedication to a noble cause, but it\\'s not preachy or boring. It just never gets old, despite my having seen it some 15 or more times in the last 25 years. Paul Lukas\\' performance brings tears to my eyes, and Bette Davis, in one of her very few truly sympathetic roles, is a delight. The kids are, as grandma says, more like \"dressed-up midgets\" than children, but that only makes them more fun to watch. And the mother\\'s slow awakening to what\\'s happening in the world and under her own roof is believable and startling. If I had a dozen thumbs, they\\'d all be \"up\" for this movie.'\n",
            "b\"I sure would like to see a resurrection of a up dated Seahunt series with the tech they have today it would bring back the kid excitement in me.I grew up on black and white TV and Seahunt with Gunsmoke were my hero's every week.You have my vote for a comeback of a new sea hunt.We need a change of pace in TV and this would work for a world of under water adventure.Oh by the way thank you for an outlet like this to view many viewpoints about TV and the many movies.So any ole way I believe I've got what I wanna say.Would be nice to read some more plus points about sea hunt.If my rhymes would be 10 lines would you let me submit,or leave me out to be in doubt and have me to quit,If this is so then I must go so lets do it.\"\n",
            "b\"This show was an amazing, fresh & innovative idea in the 70's when it first aired. The first 7 or 8 years were brilliant, but things dropped off after that. By 1990, the show was not really funny anymore, and it's continued its decline further to the complete waste of time it is today.<br /><br />It's truly disgraceful how far this show has fallen. The writing is painfully bad, the performances are almost as bad - if not for the mildly entertaining respite of the guest-hosts, this show probably wouldn't still be on the air. I find it so hard to believe that the same creator that hand-selected the original cast also chose the band of hacks that followed. How can one recognize such brilliance and then see fit to replace it with such mediocrity? I felt I must give 2 stars out of respect for the original cast that made this show such a huge success. As it is now, the show is just awful. I can't believe it's still on the air.\"\n",
            "b\"Encouraged by the positive comments about this film on here I was looking forward to watching this film. Bad mistake. I've seen 950+ films and this is truly one of the worst of them - it's awful in almost every way: editing, pacing, storyline, 'acting,' soundtrack (the film's only song - a lame country tune - is played no less than four times). The film looks cheap and nasty and is boring in the extreme. Rarely have I been so happy to see the end credits of a film. <br /><br />The only thing that prevents me giving this a 1-score is Harvey Keitel - while this is far from his best performance he at least seems to be making a bit of an effort. One for Keitel obsessives only.\"\n",
            "b'If you like original gut wrenching laughter you will like this movie. If you are young or old then you will love this movie, hell even my mom liked it.<br /><br />Great Camp!!!'\n",
            "b'Phil the Alien is one of those quirky films where the humour is based around the oddness of everything rather than actual punchlines.<br /><br />At first it was very odd and pretty funny but as the movie progressed I didn\\'t find the jokes or oddness funny anymore.<br /><br />Its a low budget film (thats never a problem in itself), there were some pretty interesting characters, but eventually I just lost interest.<br /><br />I imagine this film would appeal to a stoner who is currently partaking.<br /><br />For something similar but better try \"Brother from another planet\"'\n",
            "b\"I saw this movie when I was about 12 when it came out. I recall the scariest scene was the big bird eating men dangling helplessly from parachutes right out of the air. The horror. The horror.<br /><br />As a young kid going to these cheesy B films on Saturday afternoons, I still was tired of the formula for these monster type movies that usually included the hero, a beautiful woman who might be the daughter of a professor and a happy resolution when the monster died in the end. I didn't care much for the romantic angle as a 12 year old and the predictable plots. I love them now for the unintentional humor.<br /><br />But, about a year or so later, I saw Psycho when it came out and I loved that the star, Janet Leigh, was bumped off early in the film. I sat up and took notice at that point. Since screenwriters are making up the story, make it up to be as scary as possible and not from a well-worn formula. There are no rules.\"\n",
            "b'So im not a big fan of Boll\\'s work but then again not many are. I enjoyed his movie Postal (maybe im the only one). Boll apparently bought the rights to use Far Cry long ago even before the game itself was even finsished. <br /><br />People who have enjoyed killing mercs and infiltrating secret research labs located on a tropical island should be warned, that this is not Far Cry... This is something Mr Boll have schemed together along with his legion of schmucks.. Feeling loneley on the set Mr Boll invites three of his countrymen to play with. These players go by the names of Til Schweiger, Udo Kier and Ralf Moeller.<br /><br />Three names that actually have made them selfs pretty big in the movie biz. So the tale goes like this, Jack Carver played by Til Schweiger (yes Carver is German all hail the bratwurst eating dudes!!) However I find that Tils acting in this movie is pretty badass.. People have complained about how he\\'s not really staying true to the whole Carver agenda but we only saw carver in a first person perspective so we don\\'t really know what he looked like when he was kicking a**.. <br /><br />However, the storyline in this film is beyond demented. We see the evil mad scientist Dr. Krieger played by Udo Kier, making Genetically-Mutated-soldiers or GMS as they are called. Performing his top-secret research on an island that reminds me of \"SPOILER\" Vancouver for some reason. Thats right no palm trees here. Instead we got some nice rich lumberjack-woods. We haven\\'t even gone FAR before I started to CRY (mehehe) I cannot go on any more.. If you wanna stay true to Bolls shenanigans then go and see this movie you will not be disappointed it delivers the true Boll experience, meaning most of it will suck.<br /><br />There are some things worth mentioning that would imply that Boll did a good work on some areas of the film such as some nice boat and fighting scenes. Until the whole cromed/albino GMS squad enters the scene and everything just makes me laugh.. The movie Far Cry reeks of scheisse (that\\'s poop for you simpletons) from a fa,r if you wanna take a wiff go ahead.. BTW Carver gets a very annoying sidekick who makes you wanna shoot him the first three minutes he\\'s on screen.'\n",
            "b\"The cast played Shakespeare.<br /><br />Shakespeare lost.<br /><br />I appreciate that this is trying to bring Shakespeare to the masses, but why ruin something so good.<br /><br />Is it because 'The Scottish Play' is my favorite Shakespeare? I do not know. What I do know is that a certain Rev Bowdler (hence bowdlerization) tried to do something similar in the Victorian era.<br /><br />In other words, you cannot improve perfection.<br /><br />I have no more to write but as I have to write at least ten lines of text (and English composition was never my forte I will just have to keep going and say that this movie, as the saying goes, just does not cut it.\"\n",
            "b\"This a fantastic movie of three prisoners who become famous. One of the actors is george clooney and I'm not a fan but this roll is not bad. Another good thing about the movie is the soundtrack (The man of constant sorrow). I recommand this movie to everybody. Greetings Bart\"\n"
          ],
          "name": "stdout"
        }
      ]
    },
    {
      "cell_type": "markdown",
      "metadata": {
        "id": "pgCkhbXN9OdZ",
        "colab_type": "text"
      },
      "source": [
        "upload test file (i.e without lable) & Genrate output file (i.e with each sentence binary classified labeled)"
      ]
    },
    {
      "cell_type": "code",
      "metadata": {
        "id": "_eclvB2k1OnI",
        "colab_type": "code",
        "colab": {}
      },
      "source": [
        "def upload_file(file):\n",
        "  with open(file,'rb') as file: \n",
        "      lines =file.read().splitlines()\n",
        "\n",
        "  file = 'out.txt'\n",
        "  with open(file,'w') as f:\n",
        "      for line in lines:\n",
        "        line = line.decode(\"utf-8\")\n",
        "        result = print_result(analyse_text(classifier, vectorizer, line))\n",
        "        f.write(result + '\\n') \n",
        "  print('your output file is generated successfully')"
      ],
      "execution_count": 0,
      "outputs": []
    },
    {
      "cell_type": "code",
      "metadata": {
        "id": "l9-YypVt3BbH",
        "colab_type": "code",
        "outputId": "302e326c-2755-45b9-df34-5eebf968e235",
        "colab": {
          "base_uri": "https://localhost:8080/",
          "height": 35
        }
      },
      "source": [
        "upload_file('test.txt')"
      ],
      "execution_count": 61,
      "outputs": [
        {
          "output_type": "stream",
          "text": [
            "your output file is generated successfully\n"
          ],
          "name": "stdout"
        }
      ]
    },
    {
      "cell_type": "markdown",
      "metadata": {
        "id": "ldd6zFnp9zil",
        "colab_type": "text"
      },
      "source": [
        "Read Output Genrated file"
      ]
    },
    {
      "cell_type": "code",
      "metadata": {
        "id": "UW2cjrG_Dgjd",
        "colab_type": "code",
        "outputId": "09697c87-6c6c-418b-b23b-a7a6bee83659",
        "colab": {
          "base_uri": "https://localhost:8080/",
          "height": 310
        }
      },
      "source": [
        "with open('out.txt','rb') as file: \n",
        "      lines =file.read().splitlines()\n",
        "\n",
        "for line in lines[:15]:\n",
        "  print(line)"
      ],
      "execution_count": 62,
      "outputs": [
        {
          "output_type": "stream",
          "text": [
            "b\"One of the other reviewers has mentioned that after watching just 1 Oz episode you'll be hooked. They are right, as this is exactly what happened with me.<br /><br />The first thing that struck me about Oz was its brutality and unflinching scenes of violence, which set in right from the word GO. Trust me, this is not a show for the faint hearted or timid. This show pulls no punches with regards to drugs, sex or violence. Its is hardcore, in the classic use of the word.<br /><br />It is called OZ as that is the nickname given to the Oswald Maximum Security State Penitentary. It focuses mainly on Emerald City, an experimental section of the prison where all the cells have glass fronts and face inwards, so privacy is not high on the agenda. Em City is home to many..Aryans, Muslims, gangstas, Latinos, Christians, Italians, Irish and more....so scuffles, death stares, dodgy dealings and shady agreements are never far away.<br /><br />I would say the main appeal of the show is due to the fact that it goes where other shows wouldn't dare. Forget pretty pictures painted for mainstream audiences, forget charm, forget romance...OZ doesn't mess around. The first episode I ever saw struck me as so nasty it was surreal, I couldn't say I was ready for it, but as I watched more, I developed a taste for Oz, and got accustomed to the high levels of graphic violence. Not just violence, but injustice (crooked guards who'll be sold out for a nickel, inmates who'll kill on order and get away with it, well mannered, middle class inmates being turned into prison bitches due to their lack of street skills or prison experience) Watching Oz, you may become comfortable with what is uncomfortable viewing....thats if you can get in touch with your darker side.: Negative\"\n",
            "b'A wonderful little production. <br /><br />The filming technique is very unassuming- very old-time-BBC fashion and gives a comforting, and sometimes discomforting, sense of realism to the entire piece. <br /><br />The actors are extremely well chosen- Michael Sheen not only \"has got all the polari\" but he has all the voices down pat too! You can truly see the seamless editing guided by the references to Williams\\' diary entries, not only is it well worth the watching but it is a terrificly written and performed piece. A masterful production about one of the great master\\'s of comedy and his life. <br /><br />The realism really comes home with the little things: the fantasy of the guard which, rather than use the traditional \\'dream\\' techniques remains solid then disappears. It plays on our knowledge and our senses, particularly with the scenes concerning Orton and Halliwell and the sets (particularly of their flat with Halliwell\\'s murals decorating every surface) are terribly well done.: Positive'\n",
            "b'I thought this was a wonderful way to spend time on a too hot summer weekend, sitting in the air conditioned theater and watching a light-hearted comedy. The plot is simplistic, but the dialogue is witty and the characters are likable (even the well bread suspected serial killer). While some may be disappointed when they realize this is not Match Point 2: Risk Addiction, I thought it was proof that Woody Allen is still fully in control of the style many of us have grown to love.<br /><br />This was the most I\\'d laughed at one of Woody\\'s comedies in years (dare I say a decade?). While I\\'ve never been impressed with Scarlet Johanson, in this she managed to tone down her \"sexy\" image and jumped right into a average, but spirited young woman.<br /><br />This may not be the crown jewel of his career, but it was wittier than \"Devil Wears Prada\" and more interesting than \"Superman\" a great comedy to go see with friends.: Positive'\n",
            "b\"Basically there's a family where a little boy (Jake) thinks there's a zombie in his closet & his parents are fighting all the time.<br /><br />This movie is slower than a soap opera... and suddenly, Jake decides to become Rambo and kill the zombie.<br /><br />OK, first of all when you're going to make a film you must Decide if its a thriller or a drama! As a drama the movie is watchable. Parents are divorcing & arguing like in real life. And then we have Jake with his closet which totally ruins all the film! I expected to see a BOOGEYMAN similar movie, and instead i watched a drama with some meaningless thriller spots.<br /><br />3 out of 10 just for the well playing parents & descent dialogs. As for the shots with Jake: just ignore them.: Negative\"\n",
            "b'Petter Mattei\\'s \"Love in the Time of Money\" is a visually stunning film to watch. Mr. Mattei offers us a vivid portrait about human relations. This is a movie that seems to be telling us what money, power and success do to people in the different situations we encounter. <br /><br />This being a variation on the Arthur Schnitzler\\'s play about the same theme, the director transfers the action to the present time New York where all these different characters meet and connect. Each one is connected in one way, or another to the next person, but no one seems to know the previous point of contact. Stylishly, the film has a sophisticated luxurious look. We are taken to see how these people live and the world they live in their own habitat.<br /><br />The only thing one gets out of all these souls in the picture is the different stages of loneliness each one inhabits. A big city is not exactly the best place in which human relations find sincere fulfillment, as one discerns is the case with most of the people we encounter.<br /><br />The acting is good under Mr. Mattei\\'s direction. Steve Buscemi, Rosario Dawson, Carol Kane, Michael Imperioli, Adrian Grenier, and the rest of the talented cast, make these characters come alive.<br /><br />We wish Mr. Mattei good luck and await anxiously for his next work.: Positive'\n",
            "b'Probably my all-time favorite movie, a story of selflessness, sacrifice and dedication to a noble cause, but it\\'s not preachy or boring. It just never gets old, despite my having seen it some 15 or more times in the last 25 years. Paul Lukas\\' performance brings tears to my eyes, and Bette Davis, in one of her very few truly sympathetic roles, is a delight. The kids are, as grandma says, more like \"dressed-up midgets\" than children, but that only makes them more fun to watch. And the mother\\'s slow awakening to what\\'s happening in the world and under her own roof is believable and startling. If I had a dozen thumbs, they\\'d all be \"up\" for this movie.: Positive'\n",
            "b\"I sure would like to see a resurrection of a up dated Seahunt series with the tech they have today it would bring back the kid excitement in me.I grew up on black and white TV and Seahunt with Gunsmoke were my hero's every week.You have my vote for a comeback of a new sea hunt.We need a change of pace in TV and this would work for a world of under water adventure.Oh by the way thank you for an outlet like this to view many viewpoints about TV and the many movies.So any ole way I believe I've got what I wanna say.Would be nice to read some more plus points about sea hunt.If my rhymes would be 10 lines would you let me submit,or leave me out to be in doubt and have me to quit,If this is so then I must go so lets do it.: Negative\"\n",
            "b\"This show was an amazing, fresh & innovative idea in the 70's when it first aired. The first 7 or 8 years were brilliant, but things dropped off after that. By 1990, the show was not really funny anymore, and it's continued its decline further to the complete waste of time it is today.<br /><br />It's truly disgraceful how far this show has fallen. The writing is painfully bad, the performances are almost as bad - if not for the mildly entertaining respite of the guest-hosts, this show probably wouldn't still be on the air. I find it so hard to believe that the same creator that hand-selected the original cast also chose the band of hacks that followed. How can one recognize such brilliance and then see fit to replace it with such mediocrity? I felt I must give 2 stars out of respect for the original cast that made this show such a huge success. As it is now, the show is just awful. I can't believe it's still on the air.: Negative\"\n",
            "b\"Encouraged by the positive comments about this film on here I was looking forward to watching this film. Bad mistake. I've seen 950+ films and this is truly one of the worst of them - it's awful in almost every way: editing, pacing, storyline, 'acting,' soundtrack (the film's only song - a lame country tune - is played no less than four times). The film looks cheap and nasty and is boring in the extreme. Rarely have I been so happy to see the end credits of a film. <br /><br />The only thing that prevents me giving this a 1-score is Harvey Keitel - while this is far from his best performance he at least seems to be making a bit of an effort. One for Keitel obsessives only.: Negative\"\n",
            "b'If you like original gut wrenching laughter you will like this movie. If you are young or old then you will love this movie, hell even my mom liked it.<br /><br />Great Camp!!!: Positive'\n",
            "b'Phil the Alien is one of those quirky films where the humour is based around the oddness of everything rather than actual punchlines.<br /><br />At first it was very odd and pretty funny but as the movie progressed I didn\\'t find the jokes or oddness funny anymore.<br /><br />Its a low budget film (thats never a problem in itself), there were some pretty interesting characters, but eventually I just lost interest.<br /><br />I imagine this film would appeal to a stoner who is currently partaking.<br /><br />For something similar but better try \"Brother from another planet\": Negative'\n",
            "b\"I saw this movie when I was about 12 when it came out. I recall the scariest scene was the big bird eating men dangling helplessly from parachutes right out of the air. The horror. The horror.<br /><br />As a young kid going to these cheesy B films on Saturday afternoons, I still was tired of the formula for these monster type movies that usually included the hero, a beautiful woman who might be the daughter of a professor and a happy resolution when the monster died in the end. I didn't care much for the romantic angle as a 12 year old and the predictable plots. I love them now for the unintentional humor.<br /><br />But, about a year or so later, I saw Psycho when it came out and I loved that the star, Janet Leigh, was bumped off early in the film. I sat up and took notice at that point. Since screenwriters are making up the story, make it up to be as scary as possible and not from a well-worn formula. There are no rules.: Negative\"\n",
            "b'So im not a big fan of Boll\\'s work but then again not many are. I enjoyed his movie Postal (maybe im the only one). Boll apparently bought the rights to use Far Cry long ago even before the game itself was even finsished. <br /><br />People who have enjoyed killing mercs and infiltrating secret research labs located on a tropical island should be warned, that this is not Far Cry... This is something Mr Boll have schemed together along with his legion of schmucks.. Feeling loneley on the set Mr Boll invites three of his countrymen to play with. These players go by the names of Til Schweiger, Udo Kier and Ralf Moeller.<br /><br />Three names that actually have made them selfs pretty big in the movie biz. So the tale goes like this, Jack Carver played by Til Schweiger (yes Carver is German all hail the bratwurst eating dudes!!) However I find that Tils acting in this movie is pretty badass.. People have complained about how he\\'s not really staying true to the whole Carver agenda but we only saw carver in a first person perspective so we don\\'t really know what he looked like when he was kicking a**.. <br /><br />However, the storyline in this film is beyond demented. We see the evil mad scientist Dr. Krieger played by Udo Kier, making Genetically-Mutated-soldiers or GMS as they are called. Performing his top-secret research on an island that reminds me of \"SPOILER\" Vancouver for some reason. Thats right no palm trees here. Instead we got some nice rich lumberjack-woods. We haven\\'t even gone FAR before I started to CRY (mehehe) I cannot go on any more.. If you wanna stay true to Bolls shenanigans then go and see this movie you will not be disappointed it delivers the true Boll experience, meaning most of it will suck.<br /><br />There are some things worth mentioning that would imply that Boll did a good work on some areas of the film such as some nice boat and fighting scenes. Until the whole cromed/albino GMS squad enters the scene and everything just makes me laugh.. The movie Far Cry reeks of scheisse (that\\'s poop for you simpletons) from a fa,r if you wanna take a wiff go ahead.. BTW Carver gets a very annoying sidekick who makes you wanna shoot him the first three minutes he\\'s on screen.: Negative'\n",
            "b\"The cast played Shakespeare.<br /><br />Shakespeare lost.<br /><br />I appreciate that this is trying to bring Shakespeare to the masses, but why ruin something so good.<br /><br />Is it because 'The Scottish Play' is my favorite Shakespeare? I do not know. What I do know is that a certain Rev Bowdler (hence bowdlerization) tried to do something similar in the Victorian era.<br /><br />In other words, you cannot improve perfection.<br /><br />I have no more to write but as I have to write at least ten lines of text (and English composition was never my forte I will just have to keep going and say that this movie, as the saying goes, just does not cut it.: Negative\"\n",
            "b\"This a fantastic movie of three prisoners who become famous. One of the actors is george clooney and I'm not a fan but this roll is not bad. Another good thing about the movie is the soundtrack (The man of constant sorrow). I recommand this movie to everybody. Greetings Bart: Positive\"\n"
          ],
          "name": "stdout"
        }
      ]
    },
    {
      "cell_type": "markdown",
      "metadata": {
        "id": "dFD7ORMi-R_6",
        "colab_type": "text"
      },
      "source": [
        "test single sentence"
      ]
    },
    {
      "cell_type": "code",
      "metadata": {
        "id": "HWIqH9-W989m",
        "colab_type": "code",
        "colab": {}
      },
      "source": [
        "def sentence(sentence):\n",
        "  print(print_result(analyse_text(classifier, vectorizer, sentence)))"
      ],
      "execution_count": 0,
      "outputs": []
    },
    {
      "cell_type": "code",
      "metadata": {
        "id": "eBCQyx5p-m51",
        "colab_type": "code",
        "colab": {
          "base_uri": "https://localhost:8080/",
          "height": 35
        },
        "outputId": "3dffd803-996a-4899-c92e-ea22bd088858"
      },
      "source": [
        "sentence('this sentence is negative')"
      ],
      "execution_count": 93,
      "outputs": [
        {
          "output_type": "stream",
          "text": [
            "this sentence is negative: Negative\n"
          ],
          "name": "stdout"
        }
      ]
    },
    {
      "cell_type": "code",
      "metadata": {
        "id": "98-kTL55_N7i",
        "colab_type": "code",
        "colab": {
          "base_uri": "https://localhost:8080/",
          "height": 35
        },
        "outputId": "b2d07caa-e29d-42ce-ad35-b5ddeccd58c8"
      },
      "source": [
        "sentence('this sentence is positive')"
      ],
      "execution_count": 94,
      "outputs": [
        {
          "output_type": "stream",
          "text": [
            "this sentence is positive: Positive\n"
          ],
          "name": "stdout"
        }
      ]
    },
    {
      "cell_type": "code",
      "metadata": {
        "id": "cPbJBbGN_vXa",
        "colab_type": "code",
        "colab": {
          "base_uri": "https://localhost:8080/",
          "height": 35
        },
        "outputId": "5e4aa35a-6b22-401a-cfdc-9e8647d545a6"
      },
      "source": [
        "sentence('future is greate')"
      ],
      "execution_count": 105,
      "outputs": [
        {
          "output_type": "stream",
          "text": [
            "future is greate: Positive\n"
          ],
          "name": "stdout"
        }
      ]
    },
    {
      "cell_type": "code",
      "metadata": {
        "id": "Zf_WuYrOAGBH",
        "colab_type": "code",
        "colab": {
          "base_uri": "https://localhost:8080/",
          "height": 35
        },
        "outputId": "1cd208a7-6705-427f-cbed-de4bc2096730"
      },
      "source": [
        "sentence('She does not speak Spanish')"
      ],
      "execution_count": 106,
      "outputs": [
        {
          "output_type": "stream",
          "text": [
            "She does not speak Spanish: Negative\n"
          ],
          "name": "stdout"
        }
      ]
    },
    {
      "cell_type": "code",
      "metadata": {
        "id": "wmFLFa9GAwR9",
        "colab_type": "code",
        "colab": {}
      },
      "source": [
        ""
      ],
      "execution_count": 0,
      "outputs": []
    }
  ]
}